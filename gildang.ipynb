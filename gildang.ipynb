{
 "metadata": {
  "name": "",
  "signature": "sha256:c69348bd0d3c2a4a744503755d196df9e7b23d35dcec558642bbaa585bc57a93"
 },
 "nbformat": 3,
 "nbformat_minor": 0,
 "worksheets": [
  {
   "cells": [
    {
     "cell_type": "code",
     "collapsed": false,
     "input": [
      "from pylab import *\n",
      "\t\n",
      "x=arange(0,2,0.01)\n",
      "y=2*sin(2*pi*(x-1/4))\n",
      "\n",
      "plot(x,y)\n",
      "xlabel('x-axis')\n",
      "ylabel('y-axis')\n",
      "title(r'$y=2\\sin (2\\pi(x-1/4))$')\n",
      "\n",
      "show()"
     ],
     "language": "python",
     "metadata": {},
     "outputs": [],
     "prompt_number": 2
    },
    {
     "cell_type": "code",
     "collapsed": false,
     "input": [
      "#\ub354\ud558\uae30 2\ub294 3\uc774\ub77c\ub294 \uac12\uc744 \ucd9c\ub825\ud55c\ub2e4.\n",
      "1 + 2"
     ],
     "language": "python",
     "metadata": {},
     "outputs": [
      {
       "metadata": {},
       "output_type": "pyout",
       "prompt_number": 1,
       "text": [
        "3"
       ]
      }
     ],
     "prompt_number": 1
    },
    {
     "cell_type": "code",
     "collapsed": false,
     "input": [
      "#\ub098\ub217\uc148\uacfc \uacf1\uc148 \uc5ed\uc2dc \uc608\uc0c1\ud55c\ub300\ub85c\uc758 \uacb0\uacfc\uac12\uc744 \ubcf4\uc5ec\uc900\ub2e4.\n",
      "3 / 2.4"
     ],
     "language": "python",
     "metadata": {},
     "outputs": [
      {
       "metadata": {},
       "output_type": "pyout",
       "prompt_number": 3,
       "text": [
        "1.25"
       ]
      }
     ],
     "prompt_number": 3
    },
    {
     "cell_type": "code",
     "collapsed": false,
     "input": [
      "3 * 9"
     ],
     "language": "python",
     "metadata": {},
     "outputs": [
      {
       "metadata": {},
       "output_type": "pyout",
       "prompt_number": 4,
       "text": [
        "27"
       ]
      }
     ],
     "prompt_number": 4
    },
    {
     "cell_type": "code",
     "collapsed": false,
     "input": [
      "# a\uc5d0 1\uc744 b\uc5d0 2\ub97c \ub300\uc785\ud55c \ub2e4\uc74c a\uc640 b\ub97c \ub354\ud558\uba74 3\uc774\ub780 \uacb0\uacfc\uac12\uc744 \ubcf4\uc5ec\uc900\ub2e4.\n",
      "a = 1\n",
      "b = 2\n",
      "a + b"
     ],
     "language": "python",
     "metadata": {},
     "outputs": [
      {
       "metadata": {},
       "output_type": "pyout",
       "prompt_number": 5,
       "text": [
        "3"
       ]
      }
     ],
     "prompt_number": 5
    },
    {
     "cell_type": "code",
     "collapsed": false,
     "input": [
      "#\ud30c\uc774\uc36c\uc5d0\uc11c\ub294 \ubcf5\uc18c\uc218\ub3c4 \uc9c0\uc6d0\ud55c\ub2e4.\n",
      "a = 2 + 3j\n",
      "b = 3\n",
      "a * b"
     ],
     "language": "python",
     "metadata": {},
     "outputs": [
      {
       "metadata": {},
       "output_type": "pyout",
       "prompt_number": 6,
       "text": [
        "(6+9j)"
       ]
      }
     ],
     "prompt_number": 6
    },
    {
     "cell_type": "code",
     "collapsed": false,
     "input": [
      "#a\uc5d0 2+3j \ub77c\ub294 \uac12\uc744 \uc124\uc815\ud558\uc600\ub2e4. \uc5ec\uae30\uc11c 2+3j\ub780 \ubcf5\uc18c\uc218\ub97c \uc758\ubbf8\ud558\ub294 \uac83\uc774\ub2e4. \n",
      "#\ubcf4\ud1b5 \uc6b0\ub9ac\ub294 \uace0\ub4f1\ud559\uad50\ub54c \ubcf5\uc18c\uc218\ub97c \ud45c\uc2dc\ud560 \ub54c \uc54c\ud30c\ubcb3 i\ub97c \uc774\uc6a9\ud574\uc11c 2 + 3i\ucc98\ub7fc \uc0ac\uc6a9\ud588\uc9c0\ub9cc \n",
      "#\ud30c\uc774\uc36c\uc5d0\uc11c\ub294 j\ub97c \uc0ac\uc6a9\ud55c\ub2e4. \n",
      "\n",
      "#\uc704\uc758 \uc608\ub294 2 + 3j \uc640 3\uc744 \uacf1\ud558\ub294 \ubc29\ubc95\uc774\ub2e4. \ub2f9\uc5f0\ud788 \uacb0\uacfc \uac12\uc73c\ub85c 6+9j\uac00 \ub420 \uac83\uc774\ub2e4.\n",
      "\n",
      "#\ub2e4\uc74c\uc740 \uac04\ub2e8\ud55c \uc870\uac74\ubb38 if\ub97c \uc774\uc6a9\ud55c \uc608\uc81c\uc774\ub2e4:"
     ],
     "language": "python",
     "metadata": {},
     "outputs": []
    },
    {
     "cell_type": "code",
     "collapsed": false,
     "input": [
      "a = 3\n",
      "if a > 1:\n",
      "    print(\"a is greater than 1\")\n",
      "    "
     ],
     "language": "python",
     "metadata": {},
     "outputs": [
      {
       "output_type": "stream",
       "stream": "stdout",
       "text": [
        "a is greater than 1\n"
       ]
      }
     ],
     "prompt_number": 8
    },
    {
     "cell_type": "code",
     "collapsed": false,
     "input": [
      "#\"...\" \uc774 \uc758\ubbf8\ud558\ub294 \uac83\uc740 \uc544\uc9c1 \ubb38\uc7a5\uc774 \ub05d\ub098\uc9c0 \uc54a\uc558\uc74c\uc744 \uc54c\ub824\uc8fc\ub294 \uac83\uc774\ub2e4. \n",
      "#\uc704 \uc608\uc81c\uc5d0\uc11c \ub450\ubc88\uc9f8 \"...\" \uc774\ud6c4\uc5d0 \"\uc5d4\ud130\"\ud0a4\ub97c \uce58\uba74 if \ubb38\uc774 \uc885\ub8cc\ub418\uace0 \"a is greater than 1\"\uc774\ub77c\ub294 \ubb38\uc7a5\uc774 \ucd9c\ub825\ub41c\ub2e4.\n",
      "\n",
      "#\ub2e4\uc74c\uc740 for\ub97c \uc774\uc6a9\ud574\uc11c [1, 2, 3]\uc548\uc758 \uac12\ub4e4\uc744 \ud558\ub098\uc529 \ucd9c\ub825\ud574 \uc8fc\ub294 \uac83\uc744 \ubcf4\uc5ec\uc900\ub2e4:"
     ],
     "language": "python",
     "metadata": {},
     "outputs": []
    },
    {
     "cell_type": "code",
     "collapsed": false,
     "input": [
      "for a in [1, 2, 3]:\n",
      "    print(a)"
     ],
     "language": "python",
     "metadata": {},
     "outputs": [
      {
       "output_type": "stream",
       "stream": "stdout",
       "text": [
        "1\n",
        "2\n",
        "3\n"
       ]
      }
     ],
     "prompt_number": 10
    },
    {
     "cell_type": "code",
     "collapsed": false,
     "input": [
      "#\uc704\uc758 \uc608\ub294 \ub300\uad04\ud638([]) \uc0ac\uc774\uc5d0 \uc788\ub294 \uac12\ub4e4\uc744 \ud558\ub098\uc529 \ucd9c\ub825\ud574 \uc900\ub2e4. \n",
      "#\uc704 \ucf54\ub4dc\uc758 \uc758\ubbf8\ub294 \"[1, 2, 3]\uc774\ub77c\ub294 \ub9ac\uc2a4\ud2b8\uc5d0\uc11c \uc55e\uc5d0\uc11c\ubd80\ud130 \ud558\ub098\uc529 \uaebc\ub0b4\uc5b4 \n",
      "#a\ub77c\ub294 \ubcc0\uc218\uc5d0 \ub300\uc785\ud55c \ud6c4 print(a)\ub97c \uc218\ud589\ud558\ub77c\u201d\uc774\ub2e4. \ub2f9\uc5f0\ud788 a \uc5d0 \ucc28\ub840\ub85c \n",
      "#1, 2, 3\uc774\ub780 \uac12\uc774 \ub300\uc785\ub420 \uac83\uc774\uace0 \n",
      "\n",
      "#print(a)\uc5d0 \uc758\ud574\uc11c \uadf8 \uac12\uc774 \ucc28\ub840\ub300\ub85c \ucd9c\ub825 \ub420 \uac83\uc774\ub2e4.\n",
      "\n",
      "#\ub2e4\uc74c\uc740 while\uc744 \uc774\uc6a9\ud558\ub294 \ubaa8\uc2b5\uc774\ub2e4"
     ],
     "language": "python",
     "metadata": {},
     "outputs": []
    },
    {
     "cell_type": "code",
     "collapsed": false,
     "input": [
      "i = 0\n",
      "while i < 3:\n",
      "    i=i+1\n",
      "    print(i)\n",
      "    "
     ],
     "language": "python",
     "metadata": {},
     "outputs": [
      {
       "output_type": "stream",
       "stream": "stdout",
       "text": [
        "1\n",
        "2\n",
        "3\n"
       ]
      }
     ],
     "prompt_number": 11
    },
    {
     "cell_type": "code",
     "collapsed": false,
     "input": [
      "#while \uc774\ub780 \uc601\uc5b4\ub2e8\uc5b4\ub294 \u201c~\uc778 \ub3d9\uc548\u201d\uc774\ub780 \ub73b\uc774\ub2e4.\n",
      "\n",
      "#\uc704\uc758 \uc608\uc81c\ub294 \"i\uac12\uc774 3\ubcf4\ub2e4 \uc791\ub2e4\"\uc778 \ub3d9\uc548 \"i = i + 1\"\uacfc \"print(i)\"\ub97c \uc218\ud589\ud558\ub77c\ub294 \ub9d0\uc774\ub2e4.\n",
      "\n",
      "#i = i + 1\uc774\ub780 \ubb38\uc7a5\uc740 i \uc758 \uac12\uc744 1\uc529 \ub354\ud558\uac8c \ud55c\ub2e4. \n",
      "#i\uac12\uc774 3\ubcf4\ub2e4 \ucee4\uc9c0\uac8c \ub418\uba74 while\ubb38\uc744 \ube60\uc838 \ub098\uac00\uac8c \ub41c\ub2e4.\n",
      "\n",
      "#\ud30c\uc774\uc36c\uc758 \ud568\uc218\ub294 \ub2e4\uc74c\ucc98\ub7fc \uc0dd\uacbc\ub2e4:"
     ],
     "language": "python",
     "metadata": {},
     "outputs": []
    },
    {
     "cell_type": "code",
     "collapsed": false,
     "input": [
      "def sum(a, b):\n",
      "    return a+b\n",
      "print(sum(3,4))"
     ],
     "language": "python",
     "metadata": {},
     "outputs": [
      {
       "output_type": "stream",
       "stream": "stdout",
       "text": [
        "7\n"
       ]
      }
     ],
     "prompt_number": 12
    },
    {
     "cell_type": "code",
     "collapsed": false,
     "input": [
      "#\ud30c\uc774\uc36c\uc5d0\uc11c def\ub294 \ud568\uc218\ub97c \ub9cc\ub4e4 \ub54c \uc0ac\uc6a9\ub418\ub294 \uc608\uc57d\uc5b4\uc774\ub2e4.\n",
      "#\uc704\uc758 \uc608\ub294 sum\uc774\ub780 \ud568\uc218\ub97c \ub9cc\ub4e4\uace0 \uadf8 \ud568\uc218\ub97c \uc5b4\ub5bb\uac8c \uc0ac\uc6a9\ud558\ub294\uc9c0\uc5d0 \ub300\ud55c \uc608\ub97c \ubcf4\uc5ec\uc900\ub2e4. \n",
      "\n",
      "#sum(a, b)\uc5d0\uc11c a, b\ub294 \uc785\ub825\uac12\uc774\uace0 a+b \ub294 \ub9ac\ud134\uac12\uc774\ub2e4. \uc989 3, 4\uac00 \uc785\ub825\uc73c\ub85c \ub4e4\uc5b4\uc624\uba74 3+4\ub97c \uc218\ud589\ud558\uace0 \uadf8 \uacb0\uacfc\uac12\uc778 7\uc744 \ub3cc\ub824\uc900\ub2e4."
     ],
     "language": "python",
     "metadata": {},
     "outputs": []
    },
    {
     "cell_type": "code",
     "collapsed": false,
     "input": [
      "#\uc22b\uc790\ud615\uc774\ub780 \uc22b\uc790 \ud615\ud0dc\ub85c \uc774\ub8e8\uc5b4\uc9c4 \uc790\ub8cc\ud615\uc73c\ub85c \uc6b0\ub9ac\uac00 \uc774\ubbf8 \uc544\ub294 \uac83\ub4e4\uc774\ub2e4. \n",
      "#\uc6b0\ub9ac\uac00 \ud754\ud788 \uc0ac\uc6a9\ud574 \uc654\ub358 \uac83\ub4e4\uc744 \uc0dd\uac01\ud574 \ubcf4\uc790.\n",
      "\n",
      "#123\uacfc \uac19\uc740 \uc815\uc218, 12.34 \uac19\uc740 \uc2e4\uc218, \uacf5\ub300\uc0dd\uc774\ub77c\uba74 \ud544\uc218\uc801\uc73c\ub85c \uc54c\uc544\uc57c \ud560 \ubcf5\uc18c\uc218(1 + 2j) \uac19\uc740 \uac83\ub4e4\ub3c4 \uc788\uace0, \n",
      "#\ub4dc\ubb3c\uac8c \uc4f0\uc774\uae34 \ud558\uc9c0\ub9cc 8\uc9c4\uc218\ub098 16\uc9c4\uc218 \uac19\uc740 \uac83\ub4e4\ub3c4 \uc788\ub2e4.\n",
      "\n",
      "#\uc774\ub7f0 \uc22b\uc790\ub4e4\uc744 \ud30c\uc774\uc36c\uc5d0\uc11c\ub294 \uc5b4\ub5bb\uac8c \uc0ac\uc6a9\ud558\ub294 \uc9c0 \uc54c\uc544\ubcf4\uc790.\n",
      "\n",
      "#\ud56d\ubaa9\t\uc0ac\uc6a9 \uc608\n",
      "#\uc815\uc218\t123, -345, 0\n",
      "#\uc2e4\uc218\t123.45, -1234.5, 3.4e10\n",
      "#\ubcf5\uc18c\uc218\t1 + 2j, -3j\n",
      "#8\uc9c4\uc218\t0o34, 0o25\n",
      "#16\uc9c4\uc218\t0x2A, 0xFF\n",
      "\n",
      "\n",
      "#\uc704\uc758 \ud45c\ub294 \uc22b\uc790\ub4e4\uc774 \ud30c\uc774\uc36c\uc5d0\uc11c \uc5b4\ub5bb\uac8c \uc0ac\uc6a9\ub418\ub294\uc9c0\ub97c \uac04\ub7b5\ud558\uac8c \ubcf4\uc5ec\uc900\ub2e4."
     ],
     "language": "python",
     "metadata": {},
     "outputs": []
    },
    {
     "cell_type": "code",
     "collapsed": false,
     "input": [
      "#\uc815\uc218\ud615\uc774\ub780 \ub9d0 \uadf8\ub300\ub85c \uc815\uc218\ub97c \ub73b\ud558\ub294 \uc22b\uc790\ub97c \ub9d0\ud55c\ub2e4. \uc544\ub798\uc758 a\ub294 \uac01\uac01\uc758 \uc22b\uc790\ub97c \ub300\uc785\ud55c \ubcc0\uc218\uc774\ub2e4.\n",
      "#\ub2e4\uc74c \uc608\ub294 \uc591\uc758 \uc815\uc218\uc640 \uc74c\uc758 \uc815\uc218, \uc22b\uc790 0\uc744 \ubcc0\uc218 a\uc5d0 \ub300\uc785\ud558\ub294 \uc608\uc81c\uc774\ub2e4.\n",
      "\n",
      "a = 123\n",
      "a = - 178\n",
      "a = 0"
     ],
     "language": "python",
     "metadata": {},
     "outputs": [],
     "prompt_number": 13
    },
    {
     "cell_type": "code",
     "collapsed": false,
     "input": [
      "#\uc18c\uc218\uc810 \ud3ec\ud568\ub41c \uac83(Floating-point)\n",
      "\n",
      "#\uc544\ub798\uc758 \uccab \ubc88\uc9f8 \uc608\uc640 \ub450 \ubc88\uc9f8 \uc608\ub294 \uc6b0\ub9ac\uac00 \ub298 \uc0ac\uc6a9\ud558\ub294 \ubc29\uc2dd\uc774\ub2e4. \n",
      "#\uadf8\ub9ac\uace0 \uc138 \ubc88\uc9f8\uc640 \ub124 \ubc88\uc9f8 \ubc29\ubc95\uc740 \ucef4\ud4e8\ud130\uc2dd \uc9c0\uc218 \ud45c\ud604\ubc95\uc774\ub2e4. \n",
      "#\uc9c0\uc218 \ud45c\ud604\ubc95\uc73c\ub85c \ud30c\uc774\uc36c\uc5d0\uc11c\ub294 4.24e10 \ub610\ub294 4.24E10\ucc98\ub7fc \ud45c\ud604\ud55c\ub2e4. \n",
      "#(e, E\ub458\uc911 \uc5b4\ub290 \uac83\uc744 \uc0ac\uc6a9\ud574\ub3c4 \ubb34\ubc29\ud558\ub2e4.)\n",
      "\n",
      "a = 1.2\n",
      "a = -3.45\n",
      "a = 4.24E10\n",
      "a = 4.24e-10\n",
      "a\n",
      "# \uc704 \uc608\uc5d0\uc11c 4.24E10\uc740 4.24 \uacf1\ud558\uae30 10\uc758 10\uc2b9, 4.24e-10\uc740 4.24 \uacf1\ud558\uae30 10\uc758 \ub9c8\uc774\ub108\uc2a4 10\uc2b9\uc744 \uc758\ubbf8\ud55c\ub2e4."
     ],
     "language": "python",
     "metadata": {},
     "outputs": [
      {
       "metadata": {},
       "output_type": "pyout",
       "prompt_number": 15,
       "text": [
        "4.24e-10"
       ]
      }
     ],
     "prompt_number": 15
    },
    {
     "cell_type": "code",
     "collapsed": false,
     "input": [
      "#8\uc9c4\uc218\ub97c \ub9cc\ub4e4\uae30 \uc704\ud574\uc11c\ub294 \uc22b\uc790\uac00 0o \ub610\ub294 0O(\uc22b\uc790 0 + \uc54c\ud30c\ubcb3 o \ub610\ub294 \ub300\ubb38\uc790 O)\uc73c\ub85c \uc2dc\uc791\ud558\uba74 \ub41c\ub2e4.\n",
      "a = 0o177\n",
      "a"
     ],
     "language": "python",
     "metadata": {},
     "outputs": [
      {
       "metadata": {},
       "output_type": "pyout",
       "prompt_number": 17,
       "text": [
        "127"
       ]
      }
     ],
     "prompt_number": 17
    },
    {
     "cell_type": "code",
     "collapsed": false,
     "input": [
      "#16\uc9c4\uc218\ub97c \ub9cc\ub4e4\uae30 \uc704\ud574\uc11c\ub294 \uc22b\uc790\uac00 0x\ub85c \uc2dc\uc791\ud558\uba74 \ub41c\ub2e4.\n",
      "a = 0x8ff\n",
      "b = 0xABC\n",
      "a + b\n",
      "\n",
      "#8\uc9c4\uc218\ub098 16\uc9c4\uc218\ub294 \uc798 \uc0ac\uc6a9\ud558\uc9c0 \uc54a\ub294 \ud615\ud0dc\uc758 \uc22b\uc790 \uc790\ub8cc\ud615\uc774\ub2e4."
     ],
     "language": "python",
     "metadata": {},
     "outputs": [
      {
       "metadata": {},
       "output_type": "pyout",
       "prompt_number": 19,
       "text": [
        "5051"
       ]
      }
     ],
     "prompt_number": 19
    },
    {
     "cell_type": "code",
     "collapsed": false,
     "input": [
      "#\ubcf4\ud1b5 \uc6b0\ub9ac\ub294 \uc911\uace0\ub4f1\ud559\uad50 \uc2dc\uc808\uc5d0 'j' \ub300\uc2e0 'i'\ub97c \uc0ac\uc6a9\ud588\uc744 \uac83\uc774\ub2e4. \ud30c\uc774\uc36c\uc740 'i' \ub300\uc2e0 'j'\ub97c \uc0ac\uc6a9\ud55c\ub2e4. 'j'\ub97c \uc368\ub3c4 \ub418\uace0 'J'\ub97c \uc368\ub3c4 \ub41c\ub2e4.\n",
      "a = 1+2j\n",
      "b = 3-4J\n",
      "a + b"
     ],
     "language": "python",
     "metadata": {},
     "outputs": [
      {
       "metadata": {},
       "output_type": "pyout",
       "prompt_number": 20,
       "text": [
        "(4-2j)"
       ]
      }
     ],
     "prompt_number": 20
    },
    {
     "cell_type": "code",
     "collapsed": false,
     "input": [
      "#\ubcf5\uc18c\uc218\ub97c \ud65c\uc6a9\ud558\ub294 \uc608\ub4e4\uc744 \uba87\uac00\uc9c0 \ubcf4\ub3c4\ub85d \ud558\uc790. \n",
      "#\ubcf5\uc18c\uc218\uc5d0\ub294 \ubcf5\uc18c\uc218\uac00 \uc790\uccb4\uc801\uc73c\ub85c \uac00\uc9c0\uace0 \uc788\ub294 \ub0b4\uc7a5\ud568\uc218\uac00 \uc788\ub2e4. \n",
      "#\uadf8\uac83\ub4e4\uc744 \uc774\uc6a9\ud558\uba74 \uc880\ub354 \ub2e4\uc591\ud55c \ubc29\ubc95\uc73c\ub85c \ubcf5\uc18c\uc218\ub97c \uc0ac\uc6a9\ud560 \uc218 \uc788\uac8c \ub41c\ub2e4.\n",
      "\n",
      "#\ub2e4\uc74c\uc758 \ubcf5\uc18c\uc218 \uc608\ub4e4\uc744 \ubcf4\uc790.\n",
      "#\ubcf5\uc18c\uc218.real\uc740 \ubcf5\uc18c\uc218\uc758 \uc2e4\uc218 \ubd80\ubd84\uc744 \ub3cc\ub824\uc900\ub2e4.\n",
      "a = 1+2j\n",
      "a.real"
     ],
     "language": "python",
     "metadata": {},
     "outputs": [
      {
       "metadata": {},
       "output_type": "pyout",
       "prompt_number": 21,
       "text": [
        "1.0"
       ]
      }
     ],
     "prompt_number": 21
    },
    {
     "cell_type": "code",
     "collapsed": false,
     "input": [
      "#\ubcf5\uc18c\uc218.imag\ub294 \ubcf5\uc18c\uc218\uc758 \ud5c8\uc218 \ubd80\ubd84\uc744 \ub3cc\ub824\uc900\ub2e4.\n",
      "a = 1+2j\n",
      "a.imag"
     ],
     "language": "python",
     "metadata": {},
     "outputs": [
      {
       "metadata": {},
       "output_type": "pyout",
       "prompt_number": 22,
       "text": [
        "2.0"
       ]
      }
     ],
     "prompt_number": 22
    },
    {
     "cell_type": "code",
     "collapsed": false,
     "input": [
      "#\ubcf5\uc18c\uc218.conjugate()\ub294 \ubcf5\uc18c\uc218\uc758 \ucf24\ub808 \ubcf5\uc18c\uc218\ub97c \ub3cc\ub824\uc900\ub2e4.\n",
      "a = 1+2j\n",
      "a.conjugate()"
     ],
     "language": "python",
     "metadata": {},
     "outputs": [
      {
       "metadata": {},
       "output_type": "pyout",
       "prompt_number": 23,
       "text": [
        "(1-2j)"
       ]
      }
     ],
     "prompt_number": 23
    },
    {
     "cell_type": "code",
     "collapsed": false,
     "input": [
      "#abs(\ubcf5\uc18c\uc218)\ub294 \ubcf5\uc18c\uc218\uc758 \uc808\ub300\uac12\uc744 \ub3cc\ub824\uc900\ub2e4. (1+2j\uc758 \uc808\ub300\uac12\uc740 \ub8e8\ud2b8 1^2 + 2^2 \uc774\ub2e4.)\n",
      "a = 1+2j\n",
      "abs(a)"
     ],
     "language": "python",
     "metadata": {},
     "outputs": [
      {
       "metadata": {},
       "output_type": "pyout",
       "prompt_number": 24,
       "text": [
        "2.23606797749979"
       ]
      }
     ],
     "prompt_number": 24
    },
    {
     "cell_type": "code",
     "collapsed": false,
     "input": [
      "#\ud504\ub85c\uadf8\ub798\ubc0d\uc744 \ud55c\ubc88\ub3c4 \ud574 \ubcf8\uc801\uc774 \uc5c6\ub294 \ub3c5\uc790\ub77c\ub3c4 \uc0ac\uce59\uc5f0\uc0b0(+, -, *, /)\uc740 \uc54c\uace0 \uc788\uc744 \uac83\uc774\ub2e4.\n",
      "#\ud30c\uc774\uc36c\uc5d0\uc11c\ub3c4 \uc5ed\uc2dc \uacc4\uc0b0\uae30\uc640 \ub9c8\ucc2c\uac00\uc9c0\ub85c \uc544\ub798\uc758 \uc5f0\uc0b0\uc790\ub97c \uc774\uc6a9\ud558\uc5ec \uc0ac\uce59\uc5f0\uc0b0\uc744 \uc218\ud589\ud55c\ub2e4.\n",
      "\n",
      "#\u203b \ud30c\uc774\uc36c 2.7\uc758 \uacbd\uc6b0 \uac00\uc7a5 \ub9c8\uc9c0\ub9c9 \uc608\uc81c\uc778 a / b\ub97c \uc2e4\ud589\ud558\uba74 0\uc774 \ub9ac\ud134\ub41c\ub2e4. \n",
      "#\ub3d9\uc77c\ud55c \uacb0\uacfc\ub97c \uc5bb\uace0 \uc2f6\ub2e4\uba74 a / (b*1.0)\uc73c\ub85c b\ub97c \uac15\uc81c\ub85c \uc2e4\uc218\ud615\uc73c\ub85c \ubcc0\ud658\ud55c \ud6c4 \uc218\ud589\ud574\uc57c\ub9cc \ud55c\ub2e4. \n",
      "#\ud30c\uc774\uc36c 2.7\uc758 \uacbd\uc6b0 \uc815\uc218\ud615\uac04 \ub098\ub217\uc148\uc758 \uacbd\uc6b0 \uc815\uc218\ub85c\ub9cc \uadf8 \uacb0\uacfc\ub97c \ub9ac\ud134\ud558\uae30 \ub54c\ubb38\uc774\ub2e4. \n",
      "#\ud30c\uc774\uc36c 3\ub294 \uc704\uc758 \uc608\uc81c\uc5d0\uc11c \ubcf4\ub4ef\uc774 \ub530\ub85c \ud615 \ubcc0\ud658\uc774 \ud544\uc694\uc5c6\ub2e4. (\ucc38\uace0: \ud30c\uc774\uc36c 2.7 vs \ud30c\uc774\uc36c 3)\n",
      "\n",
      "a = 3\n",
      "b = 4\n",
      "a + b"
     ],
     "language": "python",
     "metadata": {},
     "outputs": [
      {
       "metadata": {},
       "output_type": "pyout",
       "prompt_number": 26,
       "text": [
        "7"
       ]
      }
     ],
     "prompt_number": 26
    },
    {
     "cell_type": "code",
     "collapsed": false,
     "input": [
      "a * b"
     ],
     "language": "python",
     "metadata": {},
     "outputs": [
      {
       "metadata": {},
       "output_type": "pyout",
       "prompt_number": 27,
       "text": [
        "12"
       ]
      }
     ],
     "prompt_number": 27
    },
    {
     "cell_type": "code",
     "collapsed": false,
     "input": [
      "a / (b*1.0)"
     ],
     "language": "python",
     "metadata": {},
     "outputs": [
      {
       "metadata": {},
       "output_type": "pyout",
       "prompt_number": 29,
       "text": [
        "0.75"
       ]
      }
     ],
     "prompt_number": 29
    },
    {
     "cell_type": "code",
     "collapsed": false,
     "input": [
      "#\ub2e4\uc74c\uc5d0 \uc54c\uc544\uc57c \ub420 \uc5f0\uc0b0\uc790\ub85c ** \ub77c\ub294 \uc5f0\uc0b0\uc790\uac00 \uc788\ub2e4. \n",
      "#\uc774\uac83\uc740 x ** y\ucc98\ub7fc \uc0ac\uc6a9\ub418\uc5c8\uc744 \ub54c x\uc758 y\uc2b9 \uac12\uc744 \ub3cc\ub824 \uc900\ub2e4. \ub2e4\uc74c\uc758 \uc608\ub97c \ud1b5\ud574 \uc54c\uc544\ubcf4\uc790.\n",
      "a = 3\n",
      "b = 4\n",
      "a ** b"
     ],
     "language": "python",
     "metadata": {},
     "outputs": [
      {
       "metadata": {},
       "output_type": "pyout",
       "prompt_number": 30,
       "text": [
        "81"
       ]
      }
     ],
     "prompt_number": 30
    },
    {
     "cell_type": "code",
     "collapsed": false,
     "input": [
      "#\ud504\ub85c\uadf8\ub798\ubc0d\uc744 \uc811\ud574 \ubcf8 \uc801\uc774 \uc5c6\ub294 \ub3c5\uc790\ub77c\uba74 %\uc5f0\uc0b0\uc790\ub294 \ubcf8 \uc801\uc774 \uc5c6\uc744 \uac83\uc774\ub2e4. \n",
      "#%\ub294 \ub098\uba38\uc9c0 \uac12\uc744 \ubc18\ud658\ud558\ub294 \uc5f0\uc0b0\uc790\uc774\ub2e4. \n",
      "#7\uc744 3\uc73c\ub85c \ub098\ub204\uba74 \ub098\uba38\uc9c0\ub294 1\uc774 \ub420 \uac83\uc774\uace0 3\uc744 7\ub85c \ub098\ub204\uba74 \ub098\uba38\uc9c0\ub294 3\uc774 \ub420 \uac83\uc774\ub2e4. \n",
      "#\ub2e4\uc74c\uc758 \uc608\ub85c \ud655\uc778\ud574 \ubcf4\uc790.\n",
      "\n",
      "7 % 3"
     ],
     "language": "python",
     "metadata": {},
     "outputs": [
      {
       "metadata": {},
       "output_type": "pyout",
       "prompt_number": 31,
       "text": [
        "1"
       ]
      }
     ],
     "prompt_number": 31
    },
    {
     "cell_type": "code",
     "collapsed": false,
     "input": [
      "3 % 7"
     ],
     "language": "python",
     "metadata": {},
     "outputs": [
      {
       "metadata": {},
       "output_type": "pyout",
       "prompt_number": 32,
       "text": [
        "3"
       ]
      }
     ],
     "prompt_number": 32
    },
    {
     "cell_type": "code",
     "collapsed": false,
     "input": [
      "#\ubb38\uc790\uc5f4\uc774\ub780 \ubb38\uc7a5\uc744 \ub73b\ud55c\ub2e4. \uc608\ub97c \ub4e4\uc5b4 \ub2e4\uc74c\uacfc \uac19\uc740 \uac83\ub4e4\uc774 \ubb38\uc790\uc5f4\uc774\ub2e4.\n",
      "\n",
      "#\"Life is too short, You need Python\"  \n",
      "#\"a\"  \n",
      "#\"123\"\n",
      "\n",
      "#\uc704\uc758 \uc608\ub97c \ubcf4\uba74 \uc774\uc911 \uc778\uc6a9\ubd80\ud638(\")\ub85c \ub458\ub7ec\uc2f8\uc778 \uac83\uc740 \ubaa8\ub450\ub2e4 \ubb38\uc790\uc5f4\uc774 \ub418\ub294 \uac83\uc744 \uc54c \uc218 \uc788\ub2e4. \n",
      "#\"123\"\uc740 \uc22b\uc790\uc778\ub370 \uc65c \ubb38\uc790\uc5f4\uc778\uac00? \ub77c\ub294 \uc758\ubb38\uc774 \ub4dc\ub294 \ub3c5\uc790\ub294 \uc778\uc6a9\ubd80\ud638(\")\ub85c \ub458\ub7ec\uc2f8\uc778 \uac83\uc740 \ubaa8\ub450 \ubb38\uc790\uc5f4\uc774\ub77c\uace0 \uc0dd\uac01\ud558\uba74 \ub420 \uac83\uc774\ub2e4."
     ],
     "language": "python",
     "metadata": {},
     "outputs": [],
     "prompt_number": 1
    },
    {
     "cell_type": "code",
     "collapsed": false,
     "input": [
      "#\ud30c\uc774\uc36c\uc5d0\uc11c \ubb38\uc790\uc5f4\uc744 \ub9cc\ub4dc\ub294 \ubc29\ubc95\uc740 \ub2e4\uc74c\uacfc \uac19\uc774 \ub124 \uac00\uc9c0\ub85c \uad6c\ubd84\ub41c\ub2e4.\n",
      "\n",
      "#\"Hello World\"  \n",
      "#'Python is fun'  \n",
      "#\"\"\"Life is too short, You need python\"\"\"  \n",
      "#'''Life is too shor, You need python'''\n",
      "\n",
      "#\ubb38\uc790\uc5f4\uc744 \ub9cc\ub4e4\uae30 \uc704\ud574\uc11c\ub294 \uc704\uc758 \uc608\uc5d0\uc11c \ubcf4\ub4ef\uc774 \uc774\uc911 \uc778\uc6a9\ubd80\ud638(\")\ub85c \ubb38\uc790\uc5f4\uc758 \uc591\ucabd\uc744 \ub458\ub7ec\uc2f8\uac70\ub098 \n",
      "#\ub2e8\uc77c \uc778\uc6a9\ubd80\ud638(') \ub610\ub294 \uc774\uc911 \uc778\uc6a9\ubd80\ud638\ub098 \ub2e8\uc77c \uc778\uc6a9\ubd80\ud638 \uc138 \uac1c\ub97c \uc5f0\uc18d\uc73c\ub85c \uc4f0\ub294(\"\"\", ''')\ub97c \uc591\ucabd\uc73c\ub85c \ub458\ub7ec\uc2f8\uba74 \ub41c\ub2e4. "
     ],
     "language": "python",
     "metadata": {},
     "outputs": [],
     "prompt_number": 2
    },
    {
     "cell_type": "code",
     "collapsed": false,
     "input": [
      "#\ubb38\uc790\uc5f4\uc744 \ub9cc\ub4e4\uc5b4\uc8fc\ub294 \uc8fc\uc778\uacf5\uc740 (') \uc640 (\")\uc774\ub2e4. \n",
      "#\ud558\uc9c0\ub9cc \ubb38\uc790\uc5f4 \ub0b4\uc5d0 (') \uc640 (\")\ub97c \ud3ec\ud568\uc2dc\ucf1c\uc57c \ud560 \uacbd\uc6b0\uac00 \uc788\ub2e4. \uc774 \ub54c\ub294 \uc880 \ub354 \ud2b9\ubcc4\ud55c \uae30\uc220\uc774 \ud544\uc694\ud558\ub2e4. "
     ],
     "language": "python",
     "metadata": {},
     "outputs": [],
     "prompt_number": 3
    },
    {
     "cell_type": "code",
     "collapsed": false,
     "input": [
      "#\uc608 1) \ub2e8\uc77c \uc778\uc6a9\ubd80\ud638(')\ub97c \ud3ec\ud568\uc2dc\ud0a4\uace0 \uc2f6\uc744 \ub54c\n",
      "\n",
      "#Python's favorite food is perl\n",
      "\n",
      "#\uc608 1\uacfc \uac19\uc740 \ubb38\uc790\uc5f4\uc744 \ubcc0\uc218\uc5d0 \uc800\uc7a5\ud558\uace0 \uc2f6\ub2e4\uace0 \uac00\uc815\ud574\ubcf4\uc790. \n",
      "#Python's\uc5d0\uc11c \ubcf4\ub4ef\uc774 '\uac00 \ud3ec\ud568\ub418\uc5b4 \uc788\ub2e4. \n",
      "#\uc774\ub7f4 \ub54c\ub294 \ub2e4\uc74c\uacfc \uac19\uc774 \ubb38\uc790\uc5f4\uc744 \uc774\uc911 \uc778\uc6a9\ubd80\ud638(\")\ub85c \ub458\ub7ec\uc2f8\uc57c \ud55c\ub2e4. \n",
      "#\uc774\uc911 \uc778\uc6a9\ubd80\ud638(\")\uc548\uc5d0 \ub4e4\uc5b4 \uc788\ub294 \ub2e8\uc77c \uc778\uc6a9\ubd80\ud638(')\ub294 \ubb38\uc790\uc5f4\uc744 \ub098\ud0c0\ub0b4\uae30 \uc704\ud55c \uae30\ud638\ub85c \uc778\uc2dd\ub418\uc9c0 \uc54a\ub294\ub2e4."
     ],
     "language": "python",
     "metadata": {},
     "outputs": [],
     "prompt_number": 4
    },
    {
     "cell_type": "code",
     "collapsed": false,
     "input": [
      "food = \"Python's favorite food is perl\"\n",
      "food"
     ],
     "language": "python",
     "metadata": {},
     "outputs": [
      {
       "metadata": {},
       "output_type": "pyout",
       "prompt_number": 6,
       "text": [
        "\"Python's favorite food is perl\""
       ]
      }
     ],
     "prompt_number": 6
    },
    {
     "cell_type": "code",
     "collapsed": false,
     "input": [
      "#\uc608 2) \uc774\uc911 \uc778\uc6a9\ubd80\ud638(\")\ub97c \ud3ec\ud568\uc2dc\ud0a4\uace0 \uc2f6\uc744 \ub54c\n",
      "\n",
      "#\"Python is very easy.\" he says.\n",
      "\n",
      "#\uc608 2\uc640 \uac19\uc774 \uc774\uc911 \uc778\uc6a9\ubd80\ud638(\")\uac00 \ud3ec\ud568\ub41c \ubb38\uc790\uc5f4\uc774\ub77c\uba74 \uc5b4\ub5bb\uac8c \ud574\uc57c (\") \uc774 \uc81c\ub300\ub85c \ud45c\ud604\ub420\uae4c?\n",
      "#\ub2e4\uc74c\uacfc \uac19\uc774 \uadf8 \ubb38\uc790\uc5f4\uc744 (')\uc73c\ub85c \ub458\ub7ec\uc2f8\uba74 \ub41c\ub2e4."
     ],
     "language": "python",
     "metadata": {},
     "outputs": [],
     "prompt_number": 7
    },
    {
     "cell_type": "code",
     "collapsed": false,
     "input": [
      "say = '\"Python is very easy.\" he says.'\n",
      "say"
     ],
     "language": "python",
     "metadata": {},
     "outputs": [
      {
       "metadata": {},
       "output_type": "pyout",
       "prompt_number": 8,
       "text": [
        "'\"Python is very easy.\" he says.'"
       ]
      }
     ],
     "prompt_number": 8
    },
    {
     "cell_type": "code",
     "collapsed": false,
     "input": [
      "#\uc608 3) \\ (\uc5ed\uc2ac\ub798\uc2dc)\ub85c (')\uacfc (\")\ub97c \ubb38\uc790\uc5f4\uc5d0 \ud3ec\ud568\uc2dc\ud0a4\uae30\n",
      "food = 'Python\\'s favorite food is perl'\n",
      "food"
     ],
     "language": "python",
     "metadata": {},
     "outputs": [
      {
       "metadata": {},
       "output_type": "pyout",
       "prompt_number": 9,
       "text": [
        "\"Python's favorite food is perl\""
       ]
      }
     ],
     "prompt_number": 9
    },
    {
     "cell_type": "code",
     "collapsed": false,
     "input": [
      "say = \"\\\"Python is very easy.\\\" he says.\"\n",
      "say"
     ],
     "language": "python",
     "metadata": {},
     "outputs": [
      {
       "metadata": {},
       "output_type": "pyout",
       "prompt_number": 10,
       "text": [
        "'\"Python is very easy.\" he says.'"
       ]
      }
     ],
     "prompt_number": 10
    },
    {
     "cell_type": "code",
     "collapsed": false,
     "input": [
      "#(')\ub098 (\")\ub97c \ubb38\uc790\uc5f4\uc5d0 \ud3ec\ud568\uc2dc\ud0ac \uc218 \uc788\ub294 \ub610 \ub2e4\ub978 \ubc29\ubc95\uc740 '\\'(\uc5ed\uc2ac\ub798\uc2dc)\ub97c \uc774\uc6a9\ud558\ub294 \uac83\uc774\ub2e4. \uc989 (\\') \uac00 \ubb38\uc790\uc5f4 \ub0b4\uc5d0 \uc0bd\uc785\ub418\uba74 \n",
      "#\uadf8\uac83\uc740 \ubb38\uc790\uc5f4\uc744 \ub458\ub7ec\uc2f8\ub294 \uae30\ud638\uc758 \uc758\ubbf8\uac00 \uc544\ub2c8\ub77c \ubb38\uc790 (') \uadf8 \uc790\uccb4\ub97c \ub73b\ud558\uac8c \ub41c\ub2e4. \n",
      "#(\\\") \uc5ed\uc2dc \ub9c8\ucc2c\uac00\uc9c0\uc774\ub2e4. \uc5b4\ub5a4 \uac83\uc744 \uc0ac\uc6a9\ud560 \uac83\uc778\uc9c0\ub294 \uac01\uc790\uc758 \uc120\ud0dd\uc774\ub2e4. "
     ],
     "language": "python",
     "metadata": {},
     "outputs": [],
     "prompt_number": 11
    },
    {
     "cell_type": "code",
     "collapsed": false,
     "input": [
      "#\uc778\ub371\uc2f1(indexing)\uc774\ub780 \ubb34\uc5c7\uc778\uac00\ub97c \u2018\uac00\ub9ac\ud0a8\ub2e4\u2019\ub294 \uc758\ubbf8\uc774\uace0, \uc2ac\ub77c\uc774\uc2f1(slicing)\uc740 \ubb34\uc5c7\uc778\uac00\ub97c \u2018\uc798\ub77c\ub0b8\ub2e4\u2019\ub77c\ub294 \uc758\ubbf8\uc774\ub2e4. \n",
      "#\uc774\uac83\ub4e4\uc744 \uc0dd\uac01\ud558\uba74\uc11c \ub2e4\uc74c\uc758 \uc608\ub97c \ub530\ub77c\ud574 \ubcf4\ub3c4\ub85d \ud558\uc790.\n",
      "\n",
      "#a = \"Life is too short, You need Python\"\n",
      "\n",
      "# \uac01 \ubb38\uc790\uc5f4\uc758 \ubb38\uc790\ub9c8\ub2e4 \ubc88\ud638\ub97c \ub9e4\uaca8 \ubcf4\uc558\ub2e4.\n",
      "\n",
      "# Life is too short, You need Python\n",
      "# 0         1         2         3 \n",
      "# 0123456789012345678901234567890123\n",
      "\n",
      "#\uc989 \"Life is too short, You need Python\"\uc774\ub77c\ub294 \ubb38\uc790\uc5f4\uc5d0\uc11c 'L'\uc740 \uccab \ubc88\uc9f8 \uc790\ub9ac\ub97c \ub73b\ud558\ub294 \uc22b\uc790\uc778 0\uc744 \n",
      "#\ubc14\ub85c \ub2e4\uc74c\uc778 'i'\ub294 1\uc744 \uc774\ub7f0\uc2dd\uc73c\ub85c \uacc4\uc18d \ubc88\ud638\ub97c \ubd99\uc778 \uac83\uc774\ub2e4. \uc911\uac04\ucbe4\uc5d0 \uc788\ub294 \"short\"\uc758 s\ub294 12\ub77c\ub294 \ubc88\ud638\uac00 \ub41c\ub2e4."
     ],
     "language": "python",
     "metadata": {},
     "outputs": [],
     "prompt_number": 15
    },
    {
     "cell_type": "code",
     "collapsed": false,
     "input": [
      "a = \"Life is too short, You need Python\"\n",
      "a[3]"
     ],
     "language": "python",
     "metadata": {},
     "outputs": [
      {
       "metadata": {},
       "output_type": "pyout",
       "prompt_number": 16,
       "text": [
        "'e'"
       ]
      }
     ],
     "prompt_number": 16
    },
    {
     "cell_type": "code",
     "collapsed": false,
     "input": [
      "# a[3] \uc774 \ub73b\ud558\ub294 \uac83\uc740 a\ub77c\ub294 \ubb38\uc790\uc5f4\uc758 \ub124 \ubc88\uc9f8 \ubb38\uc790\uc778 'e'\ub97c \ub9d0\ud55c\ub2e4. \n",
      "# \ud504\ub85c\uadf8\ub798\ubc0d\uc744 \ucc98\uc74c \uc811\ud558\ub294 \ub3c5\uc790\ub77c\uba74 a[3]\uc5d0\uc11c 3\uc774\ub780 \uc22b\uc790\ub294 \uc138 \ubc88\uc9f8\uc778\ub370 \uc65c \ub124 \ubc88\uc9f8 \ubb38\uc790\ub97c \ub9d0\ud55c\ub2e4\ub294 \uac83\uc778\uc9c0 \uc758\uc544\ud560 \uac83\uc774\ub2e4.\n",
      "\n",
      "# \uc774 \ubd80\ubd84\uc774 \uc0ac\uc2e4 \ud544\uc790\ub3c4 \uac00\ub054 \ub9ce\uc774 \ud5f7\uac08\ub9ac\ub294 \ubd80\ubd84\uc778\ub370, \uc774\ub807\uac8c \uc0dd\uac01\ud558\uba74 \uc27d\uac8c \uc54c \uc218 \uc788\uc744 \uac83\uc774\ub2e4.\n",
      "\n",
      "# \"\ud30c\uc774\uc36c\uc740 0\ubd80\ud130 \uc22b\uc790\ub97c \uc13c\ub2e4\"\n",
      "\n",
      "# \uc704\uc758 \ubb38\uc790\uc5f4\uc744 \ud30c\uc774\uc36c\uc740 \uc774\ub807\uac8c \ubc14\ub77c\ubcf4\uace0 \uc788\ub294 \uac83\uc774\ub2e4.\n",
      "\n",
      "# a[0]: 'L', a[1]: 'i', a[2]: 'f', a[3]: 'e', a[4]: ' ',....\n"
     ],
     "language": "python",
     "metadata": {},
     "outputs": [],
     "prompt_number": 17
    },
    {
     "cell_type": "code",
     "collapsed": false,
     "input": [
      "b = a[0] + a[1] + a[2] + a[3]\n",
      "b "
     ],
     "language": "python",
     "metadata": {},
     "outputs": [
      {
       "metadata": {},
       "output_type": "pyout",
       "prompt_number": 18,
       "text": [
        "'Life'"
       ]
      }
     ],
     "prompt_number": 18
    },
    {
     "cell_type": "code",
     "collapsed": false,
     "input": [
      "# \uc790\uc8fc \uc4f0\ub294 \uc2ac\ub77c\uc774\uc2f1\uc758 \uc608\n",
      "a = \"20010331Rainy\"\n",
      "date = a[:8]\n",
      "weather = a[8:]"
     ],
     "language": "python",
     "metadata": {},
     "outputs": [],
     "prompt_number": 19
    },
    {
     "cell_type": "code",
     "collapsed": false,
     "input": [
      "date"
     ],
     "language": "python",
     "metadata": {},
     "outputs": [
      {
       "metadata": {},
       "output_type": "pyout",
       "prompt_number": 20,
       "text": [
        "'20010331'"
       ]
      }
     ],
     "prompt_number": 20
    },
    {
     "cell_type": "code",
     "collapsed": false,
     "input": [
      "weather"
     ],
     "language": "python",
     "metadata": {},
     "outputs": [
      {
       "metadata": {},
       "output_type": "pyout",
       "prompt_number": 21,
       "text": [
        "'Rainy'"
       ]
      }
     ],
     "prompt_number": 21
    },
    {
     "cell_type": "code",
     "collapsed": false,
     "input": [
      "# a \ub77c\ub294 \ubb38\uc790\uc5f4\uc744 \ub450 \ubd80\ubd84\uc73c\ub85c \ub098\ub204\ub294 \uae30\ubc95\uc774\ub2e4. \n",
      "# \ub3d9\uc77c\ud55c \uc22b\uc790 '8'\uc744 \uae30\uc900\uc73c\ub85c a[:8], a[8:]\ucc98\ub7fc \uc0ac\uc6a9\uc744 \ud558\uc600\ub2e4. \n",
      "# a[:8]\uc740 a[8]\uc774 \ud3ec\ud568\uc774 \uc548\ub418\uace0 a[8:]\uc740 a[8]\uc744 \ud3ec\ud568\ud558\uae30 \ub54c\ubb38\uc5d0 8\uc744 \uae30\uc900\uc73c\ub85c \ud574\uc11c \ub450 \ubd80\ubd84\uc73c\ub85c \ub098\ub204\uac8c \ub41c \uac83\uc774\ub2e4. \n",
      "# \uc704\uc758 \uc608\uc5d0\uc11c\ub294 \"20010331Rainy\" \ub77c\ub294 \ubb38\uc790\uc5f4\uc744 \ub0a0\uc9dc\ub97c \ub098\ud0c0\ub0b4\ub294 \ubd80\ubd84\uc778 '20010331'\uacfc \ub0a0\uc528\ub97c \ub098\ud0c0\ub0b4\ub294 \ubd80\ubd84\uc778 'Rainy'\ub85c \ub098\ub204\ub294 \ubc29\ubc95\uc744 \ubcf4\uc5ec\uc900\ub2e4."
     ],
     "language": "python",
     "metadata": {},
     "outputs": [],
     "prompt_number": 22
    },
    {
     "cell_type": "code",
     "collapsed": false,
     "input": [
      "# \uc9c0\uae08\uae4c\uc9c0 \uc6b0\ub9ac\ub294 \uc22b\uc790\uc640 \ubb38\uc790\uc5f4\uc5d0 \ub300\ud574\uc11c \uc54c\uc544\ubcf4\uc558\ub2e4. \ud558\uc9c0\ub9cc \uc774\ub7ec\ud55c \uac83\ub4e4\ub85c \ud504\ub85c\uadf8\ub798\ubc0d\uc744 \ud558\uae30\uc5d4 \ubd80\uc871\ud55c \uc810\uc774 \ub9ce\ub2e4. \n",
      "# \uc608\ub97c \ub4e4\uc5b4 1\ubd80\ud130 10\uae4c\uc9c0\uc758 \uc22b\uc790\ub4e4 \uc911 \ud640\uc218\ub4e4\uc758 \ubaa8\uc784\uc778 1, 3, 5, 7, 9\ub77c\ub294 \uc9d1\ud569\uc744 \uc0dd\uac01\ud574 \ubcf4\uc790. \n",
      "# \uc774\uac83\ub4e4\uc744 \uc22b\uc790\ub098 \ubb38\uc790\uc5f4\ub85c \ud45c\ud604 \ud558\uae30\ub294 \uc27d\uc9c0\uac00 \uc54a\ub2e4. \n",
      "# \ud30c\uc774\uc36c\uc5d0\ub294 \uc774\ub7ec\ud55c \ubd88\ud3b8\ud568\uc744 \ud574\uc18c \ud560 \uc218 \uc788\ub294 \uc790\ub8cc\ud615\uc774 \uc874\uc7ac\ud55c\ub2e4. \uadf8\uac83\uc774 \ubc14\ub85c \uc774\uacf3\uc5d0\uc11c \uacf5\ubd80\ud558\uac8c \ub420 \ub9ac\uc2a4\ud2b8\ub77c\ub294 \uac83\uc774\ub2e4.\n",
      "\n",
      "# \ub9ac\uc2a4\ud2b8\ub97c \uc774\uc6a9\ud558\uba74 1, 3, 5, 7, 9\ub77c\ub294 \uc22b\uc790\uc758 \ubaa8\uc784\uc744 \ub2e4\uc74c\uacfc \uac19\uc774 \uac04\ub2e8\ud558\uac8c \ud45c\ud604\ud560 \uc218 \uc788\ub2e4.\n",
      "\n",
      "# >>> odd = [1,3,5,7,9]\n",
      "\n",
      "# \ub9ac\uc2a4\ud2b8\ub97c \ub9cc\ub4e4 \ub54c\ub294 \uc704\uc5d0\uc11c \ubcf4\ub294 \uac83\uacfc \uac19\uc774 \ub300\uad04\ud638([ ])\ub85c \uac10\uc2f8\uc8fc\uace0 \uc548\uc5d0 \ub4e4\uc5b4\uac08 \uac12\ub4e4\uc740 \uc27c\ud45c\ub85c \uad6c\ubd84\ud574\uc900\ub2e4.\n",
      "\n",
      "# \uc5ec\ub7ec \uac00\uc9c0 \ub9ac\uc2a4\ud2b8\uc758 \uc0dd\uae40\uc0c8\ub97c \uc0b4\ud3b4\ubcf4\uba74 \ub2e4\uc74c\uacfc \uac19\ub2e4.\n",
      "\n",
      "# >>> a = []\n",
      "# >>> b = [1, 2, 3]\n",
      "# >>> c = ['Life', 'is', 'too', 'short']\n",
      "# >>> d = [1, 2, 'Life', 'is']\n",
      "# >>> e = [1, 2, ['Life', 'is']]\n",
      "\n",
      "# a \ucc98\ub7fc \ub9ac\uc2a4\ud2b8\ub294 \uc544\ubb34 \uac83\ub3c4 \ud3ec\ud568\ud558\uc9c0 \uc54a\ub294 \ube48 \ub9ac\uc2a4\ud2b8([])\uc77c \uc218\ub3c4 \uc788\uace0 \n",
      "# b\ucc98\ub7fc \uc22b\uc790\ub97c \uadf8 \uc694\uc18c \uac12\uc73c\ub85c \uac00\uc9c8 \uc218\ub3c4 \uc788\uace0, \n",
      "# c\ucc98\ub7fc \ubb38\uc790\uc5f4\uc744 \uc694\uc18c\uac12\uc73c\ub85c \uac00\uc9c8 \uc218 \uc788\uace0 \n",
      "# d\ucc98\ub7fc \uc22b\uc790\uc640 \ubb38\uc790\uc5f4\uc744 \ud568\uaed8 \uc694\uc18c\uac12\uc73c\ub85c \uac00\uc9c8 \uc218 \uc788\uc73c\uba70 \ub610\ud55c \n",
      "# e\ucc98\ub7fc \ub9ac\uc2a4\ud2b8 \uc790\uccb4\ub97c \uadf8 \uc694\uc18c \uac12\uc73c\ub85c \uac00\uc9c8 \uc218 \ub3c4 \uc788\ub2e4. \uc989, \ub9ac\uc2a4\ud2b8 \ub0b4\uc5d0\ub294 \uc5b4\ub5a0\ud55c \uc790\ub8cc\ud615\ub3c4 \ud3ec\ud568\uc2dc\ud0ac \uc218 \uc788\ub2e4."
     ],
     "language": "python",
     "metadata": {},
     "outputs": [],
     "prompt_number": 23
    },
    {
     "cell_type": "code",
     "collapsed": false,
     "input": [
      "# a \ubcc0\uc218\uc5d0 [1, 2, 3] \uc774\ub77c\ub294 \uac12\uc744 \uc138\ud305\ud55c\ub2e4.\n",
      "a = [1, 2, 3]\n",
      "a"
     ],
     "language": "python",
     "metadata": {},
     "outputs": [
      {
       "metadata": {},
       "output_type": "pyout",
       "prompt_number": 24,
       "text": [
        "[1, 2, 3]"
       ]
      }
     ],
     "prompt_number": 24
    },
    {
     "cell_type": "code",
     "collapsed": false,
     "input": [
      "# \ub9ac\uc2a4\ud2b8 \uc5ed\uc2dc \ubb38\uc790\uc5f4\uc5d0\uc11c\ucc98\ub7fc \uc778\ub371\uc2f1\uc774 \uc801\uc6a9\ub41c\ub2e4.\n",
      "a[0]"
     ],
     "language": "python",
     "metadata": {},
     "outputs": [
      {
       "metadata": {},
       "output_type": "pyout",
       "prompt_number": 25,
       "text": [
        "1"
       ]
      }
     ],
     "prompt_number": 25
    },
    {
     "cell_type": "code",
     "collapsed": false,
     "input": [
      "# \uc544\ub798\uc758 \uc608\ub294 \ub9ac\uc2a4\ud2b8\uc758 \uccab \ubc88\uc9f8 \uc694\uc18c\uc778 a[0]\uc640 \uc138 \ubc88\uc9f8 \uc694\uc18c\uc778 a[2]\uc758 \uac12\uc744 \ub354\ud574 \uc8fc\uc5c8\ub2e4.\n",
      "# 1 + 3\n",
      "a[0] + a[2]"
     ],
     "language": "python",
     "metadata": {},
     "outputs": [
      {
       "metadata": {},
       "output_type": "pyout",
       "prompt_number": 26,
       "text": [
        "4"
       ]
      }
     ],
     "prompt_number": 26
    },
    {
     "cell_type": "code",
     "collapsed": false,
     "input": [
      "# \ubb38\uc790\uc5f4\uc5d0\uc11c\uc640 \ub9c8\ucc2c\uac00\uc9c0\ub85c \ub9ac\uc2a4\ud2b8\uc5d0\uc11c\ub3c4 \uc2ac\ub77c\uc774\uc2f1 \uae30\ubc95\uc774 \uc801\uc6a9\ub41c\ub2e4. \n",
      "# \uc2ac\ub77c\uc774\uc2f1\uc774\ub77c\ub294 \uac83\uc740 \u201c\ub098\ub208\ub2e4\u201d\ub77c\ub294 \ub73b\uc774\ub77c\uace0 \ud588\uc5c8\ub2e4. \uc790, \uadf8\ub7fc \ub9ac\uc2a4\ud2b8\uc758 \uc2ac\ub77c\uc774\uc2f1\uc5d0 \ub300\ud574\uc11c \uc0b4\ud3b4\ubcf4\ub3c4\ub85d \ud558\uc790.\n",
      "a = [1, 2, 3, 4, 5]\n",
      "a[0:2]"
     ],
     "language": "python",
     "metadata": {},
     "outputs": [
      {
       "metadata": {},
       "output_type": "pyout",
       "prompt_number": 27,
       "text": [
        "[1, 2]"
       ]
      }
     ],
     "prompt_number": 27
    },
    {
     "cell_type": "code",
     "collapsed": false,
     "input": [
      "# \ub9ac\uc2a4\ud2b8\uc5d0 \uc694\uc18c \ucd94\uac00 (append)\n",
      "\n",
      "# append\uc758 \ub73b\uc774 \ubb34\uc5c7\uc778\uc9c0 \uc548\ub2e4\uba74 \uc544\ub798\uc758 \uc608\uac00 \uae08\ubc29 \uc774\ud574\uac00 \ub420 \uac83\uc774\ub2e4. append(x)\ub294 \ub9ac\uc2a4\ud2b8\uc758 \ub9e8 \ub9c8\uc9c0\ub9c9\uc5d0 x\ub97c \ucd94\uac00\uc2dc\ud0a4\ub294 \ud568\uc218\uc774\ub2e4.\n",
      "a = [1, 2, 3] \n",
      "a.append(4)\n",
      "a"
     ],
     "language": "python",
     "metadata": {},
     "outputs": [
      {
       "metadata": {},
       "output_type": "pyout",
       "prompt_number": 28,
       "text": [
        "[1, 2, 3, 4]"
       ]
      }
     ],
     "prompt_number": 28
    },
    {
     "cell_type": "code",
     "collapsed": false,
     "input": [
      "# \ub9ac\uc2a4\ud2b8\ub0b4\uc5d0\ub294 \uc5b4\ub5a4 \uc790\ub8cc\ud615\ub3c4 \ucd94\uac00\uc2dc\ud0ac \uc218\uac00 \uc788\ub2e4. \uc544\ub798\uc758 \uc608\ub294 \ub9ac\uc2a4\ud2b8\uc5d0 \ub2e4\uc2dc \ub9ac\uc2a4\ud2b8\ub97c \ucd94\uac00\uc2dc\ud0a8 \uacb0\uacfc\ub97c \ubcf4\uc5ec\uc900\ub2e4.\n",
      "a.append([5,6])\n",
      "a"
     ],
     "language": "python",
     "metadata": {},
     "outputs": [
      {
       "metadata": {},
       "output_type": "pyout",
       "prompt_number": 29,
       "text": [
        "[1, 2, 3, 4, [5, 6]]"
       ]
      }
     ],
     "prompt_number": 29
    },
    {
     "cell_type": "code",
     "collapsed": false,
     "input": [
      "# \ub9ac\uc2a4\ud2b8 \uc815\ub82c(sort)\n",
      "\n",
      "# sort \ud568\uc218\ub294 \ub9ac\uc2a4\ud2b8\uc758 \uc694\uc18c\ub97c \uc21c\uc11c\ub300\ub85c \uc815\ub82c\ud558\uc5ec \uc815\ub82c\ub41c \uac12\uc744 \ub3cc\ub824\uc900\ub2e4.\n",
      "a = [1, 4, 3, 2]\n",
      "a.sort()\n",
      "a"
     ],
     "language": "python",
     "metadata": {},
     "outputs": [
      {
       "metadata": {},
       "output_type": "pyout",
       "prompt_number": 30,
       "text": [
        "[1, 2, 3, 4]"
       ]
      }
     ],
     "prompt_number": 30
    },
    {
     "cell_type": "code",
     "collapsed": false,
     "input": [
      "# \ub9ac\uc2a4\ud2b8 \ub4a4\uc9d1\uae30(reverse)\n",
      "\n",
      "# reverse \ud568\uc218\ub294 \ub9ac\uc2a4\ud2b8\ub97c \uc5ed\uc21c\uc73c\ub85c \ub4a4\uc9d1\uc5b4\uc900\ub2e4. \n",
      "# \ud558\uc9c0\ub9cc \uc774\uac83\uc774 \uc758\ubbf8\ud558\ub294 \uac83\uc774 \uba3c\uc800 \uc21c\uc11c\ub300\ub85c \uc815\ub82c\ud55c \ub2e4\uc74c\uc5d0 \ub2e4\uc2dc \uc5ed\uc21c\uc73c\ub85c \uc815\ub82c\ud558\ub294 \uac83\uc740 \uc544\ub2c8\ub2e4. \n",
      "# \uadf8\uc800 \ub9ac\uc2a4\ud2b8 \uadf8\ub300\ub85c\ub97c \uac70\uafb8\ub85c \ub4a4\uc9d1\ub294 \uc77c\uc744 \ud560 \ubfd0\uc774\ub2e4.\n",
      "\n",
      "a = ['a', 'c', 'b']\n",
      "a.reverse()\n",
      "a"
     ],
     "language": "python",
     "metadata": {},
     "outputs": [
      {
       "metadata": {},
       "output_type": "pyout",
       "prompt_number": 31,
       "text": [
        "['b', 'c', 'a']"
       ]
      }
     ],
     "prompt_number": 31
    },
    {
     "cell_type": "code",
     "collapsed": false,
     "input": [
      "# \uc704\uce58 \ubc18\ud658 (index)\n",
      "\n",
      "# index(x) \ud568\uc218\ub294 \ub9ac\uc2a4\ud2b8\uc5d0 x\ub77c\ub294 \uac12\uc774 \uc788\uc73c\uba74 \uadf8 \uc704\uce58\ub97c \ub3cc\ub824\uc900\ub2e4.\n",
      "a = [1,2,3]\n",
      "a.index(3)"
     ],
     "language": "python",
     "metadata": {},
     "outputs": [
      {
       "metadata": {},
       "output_type": "pyout",
       "prompt_number": 32,
       "text": [
        "2"
       ]
      }
     ],
     "prompt_number": 32
    },
    {
     "cell_type": "code",
     "collapsed": false,
     "input": [
      "# \ub9ac\uc2a4\ud2b8\uc5d0 \uc694\uc18c \uc0bd\uc785 (insert)\n",
      "\n",
      "# insert(a, b)\ub294 \ub9ac\uc2a4\ud2b8\uc758 a\ubc88\uc9f8 \uc704\uce58\uc5d0 b\ub97c \uc0bd\uc785\ud558\ub294 \ud568\uc218\uc774\ub2e4.\n",
      "# \uc704\uc758 \uc608\uc5d0\uc11c\ub294 0\ubc88\uc9f8 \uc790\ub9ac \uc989 \uccab \ubc88\uc9f8 \uc790\ub9ac\uc5d0 4 \ub77c\ub294 \uac12\uc744 \uc0bd\uc785\ud558\ub77c\ub294 \ub73b\uc774 \ub41c\ub2e4.\n",
      "a = [1,2,3]\n",
      "a.insert(0, 4)\n",
      "a"
     ],
     "language": "python",
     "metadata": {},
     "outputs": [
      {
       "metadata": {},
       "output_type": "pyout",
       "prompt_number": 36,
       "text": [
        "[4, 1, 2, 3]"
       ]
      }
     ],
     "prompt_number": 36
    },
    {
     "cell_type": "code",
     "collapsed": false,
     "input": [
      "# \ub9ac\uc2a4\ud2b8 \uc694\uc18c \uc81c\uac70 (remove)\n",
      "\n",
      "# remove(x)\ub294 \uccab\ubc88\uc9f8 \ub098\uc624\ub294 x \ub97c \uc0ad\uc81c\ud558\ub294 \ud568\uc218\uc774\ub2e4. \n",
      "# \uc544\ub798\uc758 \uc608\ub294 a\uac00 3\uc774\ub77c\ub294 \uac12\uc744 \ub450\uac1c \uac00\uc9c0\uace0 \uc788\uc744\uacbd\uc6b0 \uccab\ubc88\uc9f8 3\ub9cc\uc744 \uc81c\uac70\ud558\ub294 \uac83\uc744 \ubcf4\uc5ec\uc900\ub2e4.\n",
      "\n",
      "a = [1,2,3,1,2,3]\n",
      "a.remove(3)\n",
      "a"
     ],
     "language": "python",
     "metadata": {},
     "outputs": [
      {
       "metadata": {},
       "output_type": "pyout",
       "prompt_number": 37,
       "text": [
        "[1, 2, 1, 2, 3]"
       ]
      }
     ],
     "prompt_number": 37
    },
    {
     "cell_type": "code",
     "collapsed": false,
     "input": [
      "# \ub9ac\uc2a4\ud2b8 \uc694\uc18c \ub044\uc9d1\uc5b4\ub0b4\uae30(pop)\n",
      "\n",
      "# pop() \ud568\uc218\ub294 \ub9ac\uc2a4\ud2b8\uc758 \ub9e8 \ub9c8\uc9c0\ub9c9 \uc694\uc18c\ub97c \ub3cc\ub824\uc8fc\uace0 \uadf8 \uc694\uc18c\ub294 \uc0ad\uc81c\ud55c\ub2e4.\n",
      "a = [1,2,3]\n",
      "a.pop()"
     ],
     "language": "python",
     "metadata": {},
     "outputs": [
      {
       "metadata": {},
       "output_type": "pyout",
       "prompt_number": 38,
       "text": [
        "3"
       ]
      }
     ],
     "prompt_number": 38
    },
    {
     "cell_type": "code",
     "collapsed": false,
     "input": [
      "a"
     ],
     "language": "python",
     "metadata": {},
     "outputs": [
      {
       "metadata": {},
       "output_type": "pyout",
       "prompt_number": 41,
       "text": [
        "[1, 2]"
       ]
      }
     ],
     "prompt_number": 41
    },
    {
     "cell_type": "code",
     "collapsed": false,
     "input": [
      "# \uc704\uc758 \uc608\uc5d0\uc11c \ubcf4\ub4ef\uc774 a \ub9ac\uc2a4\ud2b8 [1,2,3]\uc5d0\uc11c 3\uc744 \ub044\uc9d1\uc5b4\ub0b4\uc5b4\uc11c \ucd5c\uc885\uc801\uc73c\ub85c [1, 2]\ub9cc \ub0a8\ub294 \uac83\uc744 \ubcfc \uc218 \uc788\ub2e4.\n",
      "\n",
      "# pop(x)\ub294 \ub9ac\uc2a4\ud2b8\uc758 x\ubc88\uc9f8 \uc694\uc18c\ub97c \ub3cc\ub824\uc8fc\uace0 \uadf8 \uc694\uc18c\ub294 \uc0ad\uc81c\ud55c\ub2e4."
     ],
     "language": "python",
     "metadata": {},
     "outputs": [],
     "prompt_number": 42
    },
    {
     "cell_type": "code",
     "collapsed": false,
     "input": [
      "# \uac2f\uc218\uc138\uae30 (count)\n",
      "\n",
      "# count(x)\ub294 \ub9ac\uc2a4\ud2b8 \uc911\uc5d0\uc11c x\uac00 \uba87 \uac1c \uc788\ub294\uc9c0\ub97c \uc870\uc0ac\ud558\uc5ec \uadf8 \uac2f\uc218\ub97c \ub3cc\ub824\uc8fc\ub294 \ud568\uc218\uc774\ub2e4.\n",
      "\n",
      "a = [1,2,3,1]\n",
      "a.count(1)"
     ],
     "language": "python",
     "metadata": {},
     "outputs": [
      {
       "metadata": {},
       "output_type": "pyout",
       "prompt_number": 43,
       "text": [
        "2"
       ]
      }
     ],
     "prompt_number": 43
    },
    {
     "cell_type": "code",
     "collapsed": false,
     "input": [
      "# \ub9ac\uc2a4\ud2b8 \ud655\uc7a5(extend)\n",
      "\n",
      "# extend(x)\uc5d0\uc11c x\uc5d0\ub294 \ub9ac\uc2a4\ud2b8\ub9cc \uc62c \uc218 \uc788\ub2e4. \uc6d0\ub798\uc758 a \ub9ac\uc2a4\ud2b8\uc5d0 x \ub9ac\uc2a4\ud2b8\ub97c \ub354\ud558\uac8c \ub41c\ub2e4.\n",
      "\n",
      "a = [1,2,3]\n",
      "a.extend([4,5])\n",
      "a"
     ],
     "language": "python",
     "metadata": {},
     "outputs": [
      {
       "metadata": {},
       "output_type": "pyout",
       "prompt_number": 44,
       "text": [
        "[1, 2, 3, 4, 5]"
       ]
      }
     ],
     "prompt_number": 44
    },
    {
     "cell_type": "code",
     "collapsed": false,
     "input": [
      "# \ud130\ud50c\uc774\ub780 \ub9ac\uc2a4\ud2b8\uc640 \uba87 \uac00\uc9c0 \uc810\uc744 \uc81c\uc678\ud558\uace4 \ubaa8\ub4e0 \uac83\uc774 \ub3d9\uc77c\ud558\ub2e4. \uadf8 \ub2e4\ub978 \uc810\uc740 \ub2e4\uc74c\uacfc \uac19\ub2e4.\n",
      "\n",
      "#    \ub9ac\uc2a4\ud2b8\ub294 [ \uacfc ] \uc73c\ub85c \ub458\ub7ec\uc2f8\uc9c0\ub9cc \ud130\ud50c\uc740 (\uacfc )\uc73c\ub85c \ub458\ub7ec\uc2fc\ub2e4.\n",
      "#    \ub9ac\uc2a4\ud2b8\ub294 \uadf8 \uac12\uc744 \uc0dd\uc131, \uc0ad\uc81c, \uc218\uc815\uc774 \uac00\ub2a5\ud558\uc9c0\ub9cc \ud130\ud50c\uc740 \uadf8 \uac12\uc744 \ubcc0\ud654\uc2dc\ud0ac \uc218 \uc5c6\ub2e4.\n",
      "\n",
      "# \ud130\ud50c\uc740 \ub2e4\uc74c\uacfc \uac19\uc740 \ubaa8\uc2b5\uc774\ub2e4.\n",
      "\n",
      "# >>> t1 = ()\n",
      "# >>> t2 = (1,)\n",
      "# >>> t3 = (1,2,3)\n",
      "# >>> t4 = 1,2,3\n",
      "# >>> t5 = ('a', 'b', ('ab', 'cd'))\n",
      "\n",
      "# \ub9ac\uc2a4\ud2b8\uc640 \uc0dd\uae40\uc0c8\uac00 \uac70\uc758 \ube44\uc2b7\ud558\uc9c0\ub9cc, \ud2b9\uc774\ud560 \ub9cc\ud55c \uc810\uc774\ub77c\uba74 \ub2e8\uc9c0 \ud55c \uac1c\uc758 \uc694\uc18c\ub9cc\uc744 \uac16\ub294 \n",
      "# \ud130\ud50c\uc740 t2 = (1,)\ucc98\ub7fc \ud55c \uac1c\uc758 \uc694\uc18c\uc640 \uadf8 \ub4a4\uc5d0 \ucf64\ub9c8(',')\ub97c \ub123\uc5b4\uc57c \ud55c\ub2e4\ub294 \uc810\uacfc \n",
      "# \ub124 \ubc88\uc9f8 \ubcf4\uae30 t4 = 1, 2, 3 \ucc98\ub7fc \uad04\ud638()\ub97c \uc0dd\ub7b5\ud574\ub3c4 \ubb34\ubc29\ud558\ub2e4\ub294 \uc810\uc774\ub2e4"
     ],
     "language": "python",
     "metadata": {},
     "outputs": [],
     "prompt_number": 45
    },
    {
     "cell_type": "code",
     "collapsed": false,
     "input": [
      "t1 = (1, 2, 'a', 'b')\n",
      "t1[0]"
     ],
     "language": "python",
     "metadata": {},
     "outputs": [
      {
       "metadata": {},
       "output_type": "pyout",
       "prompt_number": 46,
       "text": [
        "1"
       ]
      }
     ],
     "prompt_number": 46
    }
   ],
   "metadata": {}
  }
 ]
}